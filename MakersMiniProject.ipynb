{
  "nbformat": 4,
  "nbformat_minor": 0,
  "metadata": {
    "colab": {
      "name": "Untitled3.ipynb",
      "provenance": [],
      "authorship_tag": "ABX9TyPZr+sb21DQ5H+I4tYwZrUu",
      "include_colab_link": true
    },
    "kernelspec": {
      "name": "python3",
      "display_name": "Python 3"
    },
    "language_info": {
      "name": "python"
    }
  },
  "cells": [
    {
      "cell_type": "markdown",
      "metadata": {
        "id": "view-in-github",
        "colab_type": "text"
      },
      "source": [
        "<a href=\"https://colab.research.google.com/github/chaiwencw/miniproject_machinelearning/blob/main/MakersMiniProject.ipynb\" target=\"_parent\"><img src=\"https://colab.research.google.com/assets/colab-badge.svg\" alt=\"Open In Colab\"/></a>"
      ]
    },
    {
      "cell_type": "code",
      "metadata": {
        "id": "7o6_ygcRDtAJ"
      },
      "source": [
        "import pandas as pd\n",
        "import numpy as np\n",
        "import seaborn as sns\n",
        "import datetime as dt\n",
        "import matplotlib.pyplot as plt\n",
        "from sklearn.model_selection import train_test_split"
      ],
      "execution_count": 1,
      "outputs": []
    },
    {
      "cell_type": "code",
      "metadata": {
        "id": "7L_embWpD52h",
        "colab": {
          "base_uri": "https://localhost:8080/",
          "height": 204
        },
        "outputId": "2b7b4b15-d93d-4de8-c973-7d4f1172eb2f"
      },
      "source": [
        "datasetURL = \"https://raw.githubusercontent.com/chaiwencw/miniproject_machinelearning/main/shoes_raw_data.csv\"\n",
        "shoesdf = pd.read_csv(datasetURL, header = None)\n",
        "shoesdf.columns = [\"invoiceNo\",\"date\", \"country\",\"productID\",\"shop\",\"gender\", \"sizeUS\",\"sizeEU\",\"sizeUK\",\"originalPrice\", \n",
        "                    \"discount\", \"year\", \"month\", \"sellingPrice\"]\n",
        "shoesdf.head()\n"
      ],
      "execution_count": 2,
      "outputs": [
        {
          "output_type": "execute_result",
          "data": {
            "text/html": [
              "<div>\n",
              "<style scoped>\n",
              "    .dataframe tbody tr th:only-of-type {\n",
              "        vertical-align: middle;\n",
              "    }\n",
              "\n",
              "    .dataframe tbody tr th {\n",
              "        vertical-align: top;\n",
              "    }\n",
              "\n",
              "    .dataframe thead th {\n",
              "        text-align: right;\n",
              "    }\n",
              "</style>\n",
              "<table border=\"1\" class=\"dataframe\">\n",
              "  <thead>\n",
              "    <tr style=\"text-align: right;\">\n",
              "      <th></th>\n",
              "      <th>invoiceNo</th>\n",
              "      <th>date</th>\n",
              "      <th>country</th>\n",
              "      <th>productID</th>\n",
              "      <th>shop</th>\n",
              "      <th>gender</th>\n",
              "      <th>sizeUS</th>\n",
              "      <th>sizeEU</th>\n",
              "      <th>sizeUK</th>\n",
              "      <th>originalPrice</th>\n",
              "      <th>discount</th>\n",
              "      <th>year</th>\n",
              "      <th>month</th>\n",
              "      <th>sellingPrice</th>\n",
              "    </tr>\n",
              "  </thead>\n",
              "  <tbody>\n",
              "    <tr>\n",
              "      <th>0</th>\n",
              "      <td>52389</td>\n",
              "      <td>1/1/2014</td>\n",
              "      <td>United Kingdom</td>\n",
              "      <td>2152</td>\n",
              "      <td>UK2</td>\n",
              "      <td>Male</td>\n",
              "      <td>11.0</td>\n",
              "      <td>44</td>\n",
              "      <td>10.5</td>\n",
              "      <td>159</td>\n",
              "      <td>0.0</td>\n",
              "      <td>2014</td>\n",
              "      <td>1</td>\n",
              "      <td>159.0</td>\n",
              "    </tr>\n",
              "    <tr>\n",
              "      <th>1</th>\n",
              "      <td>52390</td>\n",
              "      <td>1/1/2014</td>\n",
              "      <td>United States</td>\n",
              "      <td>2230</td>\n",
              "      <td>US15</td>\n",
              "      <td>Male</td>\n",
              "      <td>11.5</td>\n",
              "      <td>44-45</td>\n",
              "      <td>11.0</td>\n",
              "      <td>199</td>\n",
              "      <td>0.2</td>\n",
              "      <td>2014</td>\n",
              "      <td>1</td>\n",
              "      <td>159.2</td>\n",
              "    </tr>\n",
              "    <tr>\n",
              "      <th>2</th>\n",
              "      <td>52391</td>\n",
              "      <td>1/1/2014</td>\n",
              "      <td>Canada</td>\n",
              "      <td>2160</td>\n",
              "      <td>CAN7</td>\n",
              "      <td>Male</td>\n",
              "      <td>9.5</td>\n",
              "      <td>42-43</td>\n",
              "      <td>9.0</td>\n",
              "      <td>149</td>\n",
              "      <td>0.2</td>\n",
              "      <td>2014</td>\n",
              "      <td>1</td>\n",
              "      <td>119.2</td>\n",
              "    </tr>\n",
              "    <tr>\n",
              "      <th>3</th>\n",
              "      <td>52392</td>\n",
              "      <td>1/1/2014</td>\n",
              "      <td>United States</td>\n",
              "      <td>2234</td>\n",
              "      <td>US6</td>\n",
              "      <td>Female</td>\n",
              "      <td>9.5</td>\n",
              "      <td>40</td>\n",
              "      <td>7.5</td>\n",
              "      <td>159</td>\n",
              "      <td>0.0</td>\n",
              "      <td>2014</td>\n",
              "      <td>1</td>\n",
              "      <td>159.0</td>\n",
              "    </tr>\n",
              "    <tr>\n",
              "      <th>4</th>\n",
              "      <td>52393</td>\n",
              "      <td>1/1/2014</td>\n",
              "      <td>United Kingdom</td>\n",
              "      <td>2222</td>\n",
              "      <td>UK4</td>\n",
              "      <td>Female</td>\n",
              "      <td>9.0</td>\n",
              "      <td>39-40</td>\n",
              "      <td>7.0</td>\n",
              "      <td>159</td>\n",
              "      <td>0.0</td>\n",
              "      <td>2014</td>\n",
              "      <td>1</td>\n",
              "      <td>159.0</td>\n",
              "    </tr>\n",
              "  </tbody>\n",
              "</table>\n",
              "</div>"
            ],
            "text/plain": [
              "   invoiceNo      date         country  ...  year month sellingPrice\n",
              "0      52389  1/1/2014  United Kingdom  ...  2014     1        159.0\n",
              "1      52390  1/1/2014   United States  ...  2014     1        159.2\n",
              "2      52391  1/1/2014          Canada  ...  2014     1        119.2\n",
              "3      52392  1/1/2014   United States  ...  2014     1        159.0\n",
              "4      52393  1/1/2014  United Kingdom  ...  2014     1        159.0\n",
              "\n",
              "[5 rows x 14 columns]"
            ]
          },
          "metadata": {
            "tags": []
          },
          "execution_count": 2
        }
      ]
    },
    {
      "cell_type": "code",
      "metadata": {
        "id": "YOdu4yxajS8Z"
      },
      "source": [
        "# shoesdf[shoesdf[\"productID\"] == 2152]"
      ],
      "execution_count": null,
      "outputs": []
    },
    {
      "cell_type": "code",
      "metadata": {
        "id": "27FO-e_PYrkv"
      },
      "source": [
        "# shoesdf.groupby(\"productID\")[\"sellingPrice\"].transform(\"mean\").round(2)\n"
      ],
      "execution_count": null,
      "outputs": []
    },
    {
      "cell_type": "code",
      "metadata": {
        "colab": {
          "base_uri": "https://localhost:8080/",
          "height": 204
        },
        "id": "tkSDeE-7eA1s",
        "outputId": "7f5b343c-0218-4ab6-b6aa-0f10b970407e"
      },
      "source": [
        " shoesdf = shoesdf.drop(labels = {\"invoiceNo\", \"sizeEU\",\"sizeUK\", \"discount\"}, axis = 1)\n",
        " shoesdf.head()"
      ],
      "execution_count": 3,
      "outputs": [
        {
          "output_type": "execute_result",
          "data": {
            "text/html": [
              "<div>\n",
              "<style scoped>\n",
              "    .dataframe tbody tr th:only-of-type {\n",
              "        vertical-align: middle;\n",
              "    }\n",
              "\n",
              "    .dataframe tbody tr th {\n",
              "        vertical-align: top;\n",
              "    }\n",
              "\n",
              "    .dataframe thead th {\n",
              "        text-align: right;\n",
              "    }\n",
              "</style>\n",
              "<table border=\"1\" class=\"dataframe\">\n",
              "  <thead>\n",
              "    <tr style=\"text-align: right;\">\n",
              "      <th></th>\n",
              "      <th>date</th>\n",
              "      <th>country</th>\n",
              "      <th>productID</th>\n",
              "      <th>shop</th>\n",
              "      <th>gender</th>\n",
              "      <th>sizeUS</th>\n",
              "      <th>originalPrice</th>\n",
              "      <th>year</th>\n",
              "      <th>month</th>\n",
              "      <th>sellingPrice</th>\n",
              "    </tr>\n",
              "  </thead>\n",
              "  <tbody>\n",
              "    <tr>\n",
              "      <th>0</th>\n",
              "      <td>1/1/2014</td>\n",
              "      <td>United Kingdom</td>\n",
              "      <td>2152</td>\n",
              "      <td>UK2</td>\n",
              "      <td>Male</td>\n",
              "      <td>11.0</td>\n",
              "      <td>159</td>\n",
              "      <td>2014</td>\n",
              "      <td>1</td>\n",
              "      <td>159.0</td>\n",
              "    </tr>\n",
              "    <tr>\n",
              "      <th>1</th>\n",
              "      <td>1/1/2014</td>\n",
              "      <td>United States</td>\n",
              "      <td>2230</td>\n",
              "      <td>US15</td>\n",
              "      <td>Male</td>\n",
              "      <td>11.5</td>\n",
              "      <td>199</td>\n",
              "      <td>2014</td>\n",
              "      <td>1</td>\n",
              "      <td>159.2</td>\n",
              "    </tr>\n",
              "    <tr>\n",
              "      <th>2</th>\n",
              "      <td>1/1/2014</td>\n",
              "      <td>Canada</td>\n",
              "      <td>2160</td>\n",
              "      <td>CAN7</td>\n",
              "      <td>Male</td>\n",
              "      <td>9.5</td>\n",
              "      <td>149</td>\n",
              "      <td>2014</td>\n",
              "      <td>1</td>\n",
              "      <td>119.2</td>\n",
              "    </tr>\n",
              "    <tr>\n",
              "      <th>3</th>\n",
              "      <td>1/1/2014</td>\n",
              "      <td>United States</td>\n",
              "      <td>2234</td>\n",
              "      <td>US6</td>\n",
              "      <td>Female</td>\n",
              "      <td>9.5</td>\n",
              "      <td>159</td>\n",
              "      <td>2014</td>\n",
              "      <td>1</td>\n",
              "      <td>159.0</td>\n",
              "    </tr>\n",
              "    <tr>\n",
              "      <th>4</th>\n",
              "      <td>1/1/2014</td>\n",
              "      <td>United Kingdom</td>\n",
              "      <td>2222</td>\n",
              "      <td>UK4</td>\n",
              "      <td>Female</td>\n",
              "      <td>9.0</td>\n",
              "      <td>159</td>\n",
              "      <td>2014</td>\n",
              "      <td>1</td>\n",
              "      <td>159.0</td>\n",
              "    </tr>\n",
              "  </tbody>\n",
              "</table>\n",
              "</div>"
            ],
            "text/plain": [
              "       date         country  productID  ...  year month  sellingPrice\n",
              "0  1/1/2014  United Kingdom       2152  ...  2014     1         159.0\n",
              "1  1/1/2014   United States       2230  ...  2014     1         159.2\n",
              "2  1/1/2014          Canada       2160  ...  2014     1         119.2\n",
              "3  1/1/2014   United States       2234  ...  2014     1         159.0\n",
              "4  1/1/2014  United Kingdom       2222  ...  2014     1         159.0\n",
              "\n",
              "[5 rows x 10 columns]"
            ]
          },
          "metadata": {
            "tags": []
          },
          "execution_count": 3
        }
      ]
    },
    {
      "cell_type": "code",
      "metadata": {
        "colab": {
          "base_uri": "https://localhost:8080/"
        },
        "id": "TpYlhIhfeLWi",
        "outputId": "32f3c16a-3fab-45e0-87e3-c90cb85a0846"
      },
      "source": [
        "shoesdf.isnull().sum()"
      ],
      "execution_count": 4,
      "outputs": [
        {
          "output_type": "execute_result",
          "data": {
            "text/plain": [
              "date             0\n",
              "country          0\n",
              "productID        0\n",
              "shop             0\n",
              "gender           0\n",
              "sizeUS           0\n",
              "originalPrice    0\n",
              "year             0\n",
              "month            0\n",
              "sellingPrice     0\n",
              "dtype: int64"
            ]
          },
          "metadata": {
            "tags": []
          },
          "execution_count": 4
        }
      ]
    },
    {
      "cell_type": "code",
      "metadata": {
        "colab": {
          "base_uri": "https://localhost:8080/"
        },
        "id": "AfsuFgTXec71",
        "outputId": "a2776c23-c7e5-489e-ed26-b28fb6c224e5"
      },
      "source": [
        "shoesdf.dtypes"
      ],
      "execution_count": 5,
      "outputs": [
        {
          "output_type": "execute_result",
          "data": {
            "text/plain": [
              "date              object\n",
              "country           object\n",
              "productID          int64\n",
              "shop              object\n",
              "gender            object\n",
              "sizeUS           float64\n",
              "originalPrice      int64\n",
              "year               int64\n",
              "month              int64\n",
              "sellingPrice     float64\n",
              "dtype: object"
            ]
          },
          "metadata": {
            "tags": []
          },
          "execution_count": 5
        }
      ]
    },
    {
      "cell_type": "code",
      "metadata": {
        "colab": {
          "base_uri": "https://localhost:8080/"
        },
        "id": "nFY7lwVrF5Ru",
        "outputId": "355ad0a9-205c-43f8-b977-73cd34ef18dc"
      },
      "source": [
        "shoesdf[\"productID\"] = shoesdf[\"productID\"].astype(str)\n",
        "shoesdf[\"date\"] = pd.to_datetime(shoesdf[\"date\"], format=\"%m/%d/%Y\")\n",
        "shoesdf.dtypes"
      ],
      "execution_count": 8,
      "outputs": [
        {
          "output_type": "execute_result",
          "data": {
            "text/plain": [
              "date             datetime64[ns]\n",
              "country                  object\n",
              "productID                object\n",
              "shop                     object\n",
              "gender                   object\n",
              "sizeUS                  float64\n",
              "originalPrice             int64\n",
              "year                      int64\n",
              "month                     int64\n",
              "sellingPrice            float64\n",
              "dtype: object"
            ]
          },
          "metadata": {
            "tags": []
          },
          "execution_count": 8
        }
      ]
    },
    {
      "cell_type": "code",
      "metadata": {
        "id": "DqOLN_d-bEOZ"
      },
      "source": [
        "# x=shoesdf[\"date\"].dt.strftime('%Y-%m')\n",
        "\n",
        "# y =shoesdf[\"productID\"].groupby(x).count().reset_index(name = \"total_sales\")\n",
        "# y[\"date\"] = pd.to_datetime(y[\"date\"],format=\"%Y-%m\")\n",
        "# y.dtypes\n",
        "# y.groupby(y.date.apply(lambda x: x.year)).total_sales.sum()\n",
        "\n",
        "# shoesdf.groupby([\"year\", \"month\"])[\"productID\"].count().reset_index()\n",
        "# df.sort_values(by=\"Month\")"
      ],
      "execution_count": null,
      "outputs": []
    },
    {
      "cell_type": "code",
      "metadata": {
        "colab": {
          "base_uri": "https://localhost:8080/"
        },
        "id": "Rec4taOXMFtH",
        "outputId": "017bfe6e-944e-47aa-f966-532bb89cb769"
      },
      "source": [
        "shoesdf.groupby([\"year\",\"month\"]).productID.count()"
      ],
      "execution_count": 9,
      "outputs": [
        {
          "output_type": "execute_result",
          "data": {
            "text/plain": [
              "year  month\n",
              "2014  1        220\n",
              "      2        204\n",
              "      3        224\n",
              "      4        253\n",
              "      5        238\n",
              "      6        225\n",
              "      7        219\n",
              "      8        241\n",
              "      9        250\n",
              "      10       274\n",
              "      11       181\n",
              "      12       224\n",
              "2015  1        305\n",
              "      2        308\n",
              "      3        328\n",
              "      4        327\n",
              "      5        390\n",
              "      6        466\n",
              "      7        453\n",
              "      8        446\n",
              "      9        440\n",
              "      10       470\n",
              "      11       454\n",
              "      12       461\n",
              "2016  1        539\n",
              "      2        549\n",
              "      3        531\n",
              "      4        617\n",
              "      5        621\n",
              "      6        690\n",
              "      7        741\n",
              "      8        706\n",
              "      9        687\n",
              "      10       703\n",
              "      11       519\n",
              "      12       463\n",
              "Name: productID, dtype: int64"
            ]
          },
          "metadata": {
            "tags": []
          },
          "execution_count": 9
        }
      ]
    },
    {
      "cell_type": "code",
      "metadata": {
        "id": "1hMIs_uYJfFA"
      },
      "source": [
        "# shoesdf.groupby([shoesdf.date.dt.strftime('%Y-%m')]).size().to_frame(\"sales\").plot(kind=\"hist\")"
      ],
      "execution_count": null,
      "outputs": []
    },
    {
      "cell_type": "code",
      "metadata": {
        "colab": {
          "base_uri": "https://localhost:8080/",
          "height": 1000
        },
        "id": "h3NhYAW28dsA",
        "outputId": "0514fffd-594a-4ad2-861b-d9be6a09d9da"
      },
      "source": [
        "product_past_sales = shoesdf.groupby(\"productID\")[\"productID\"].count().to_frame(\"sales\")\n",
        "product_past_sales.plot(kind=\"barh\", figsize=(20,30),color='maroon',edgecolor=\"black\")\n",
        "product_past_sales"
      ],
      "execution_count": 11,
      "outputs": [
        {
          "output_type": "execute_result",
          "data": {
            "text/html": [
              "<div>\n",
              "<style scoped>\n",
              "    .dataframe tbody tr th:only-of-type {\n",
              "        vertical-align: middle;\n",
              "    }\n",
              "\n",
              "    .dataframe tbody tr th {\n",
              "        vertical-align: top;\n",
              "    }\n",
              "\n",
              "    .dataframe thead th {\n",
              "        text-align: right;\n",
              "    }\n",
              "</style>\n",
              "<table border=\"1\" class=\"dataframe\">\n",
              "  <thead>\n",
              "    <tr style=\"text-align: right;\">\n",
              "      <th></th>\n",
              "      <th>sales</th>\n",
              "    </tr>\n",
              "    <tr>\n",
              "      <th>productID</th>\n",
              "      <th></th>\n",
              "    </tr>\n",
              "  </thead>\n",
              "  <tbody>\n",
              "    <tr>\n",
              "      <th>2147</th>\n",
              "      <td>165</td>\n",
              "    </tr>\n",
              "    <tr>\n",
              "      <th>2148</th>\n",
              "      <td>147</td>\n",
              "    </tr>\n",
              "    <tr>\n",
              "      <th>2149</th>\n",
              "      <td>162</td>\n",
              "    </tr>\n",
              "    <tr>\n",
              "      <th>2150</th>\n",
              "      <td>150</td>\n",
              "    </tr>\n",
              "    <tr>\n",
              "      <th>2151</th>\n",
              "      <td>156</td>\n",
              "    </tr>\n",
              "    <tr>\n",
              "      <th>...</th>\n",
              "      <td>...</td>\n",
              "    </tr>\n",
              "    <tr>\n",
              "      <th>2238</th>\n",
              "      <td>171</td>\n",
              "    </tr>\n",
              "    <tr>\n",
              "      <th>2239</th>\n",
              "      <td>189</td>\n",
              "    </tr>\n",
              "    <tr>\n",
              "      <th>2240</th>\n",
              "      <td>141</td>\n",
              "    </tr>\n",
              "    <tr>\n",
              "      <th>2241</th>\n",
              "      <td>171</td>\n",
              "    </tr>\n",
              "    <tr>\n",
              "      <th>2242</th>\n",
              "      <td>144</td>\n",
              "    </tr>\n",
              "  </tbody>\n",
              "</table>\n",
              "<p>96 rows × 1 columns</p>\n",
              "</div>"
            ],
            "text/plain": [
              "           sales\n",
              "productID       \n",
              "2147         165\n",
              "2148         147\n",
              "2149         162\n",
              "2150         150\n",
              "2151         156\n",
              "...          ...\n",
              "2238         171\n",
              "2239         189\n",
              "2240         141\n",
              "2241         171\n",
              "2242         144\n",
              "\n",
              "[96 rows x 1 columns]"
            ]
          },
          "metadata": {
            "tags": []
          },
          "execution_count": 11
        },
        {
          "output_type": "display_data",
          "data": {
            "image/png": "[encoded data removed]",
            "text/plain": [
              "<Figure size 1440x2160 with 1 Axes>"
            ]
          },
          "metadata": {
            "tags": [],
            "needs_background": "light"
          }
        }
      ]
    },
    {
      "cell_type": "code",
      "metadata": {
        "id": "4iqFsqc1GnZe"
      },
      "source": [
        "# shoesdf[\"sales\"] = shoesdf.groupby([\"date\",\"productID\"]).productID.transform(\"count\")"
      ],
      "execution_count": null,
      "outputs": []
    },
    {
      "cell_type": "code",
      "metadata": {
        "id": "CA2C2mgxQbv6"
      },
      "source": [
        "shoesdf.describe()"
      ],
      "execution_count": null,
      "outputs": []
    },
    {
      "cell_type": "code",
      "metadata": {
        "colab": {
          "base_uri": "https://localhost:8080/"
        },
        "id": "IlumrRpuSD4p",
        "outputId": "aa80f269-40c4-4b91-ca01-3600e069f320"
      },
      "source": [
        "shoesdf.shop.unique()"
      ],
      "execution_count": 54,
      "outputs": [
        {
          "output_type": "execute_result",
          "data": {
            "text/plain": [
              "array(['UK2', 'US15', 'CAN7', 'US6', 'UK4', 'GER2', 'CAN5', 'US13', 'UK1',\n",
              "       'US1', 'US11', 'US2', 'GER1', 'CAN6', 'US7', 'CAN3', 'UK5', 'CAN2',\n",
              "       'US5', 'CAN1', 'US12', 'US9', 'US4', 'US14', 'US3', 'UK3', 'GER3',\n",
              "       'US8', 'US10'], dtype=object)"
            ]
          },
          "metadata": {
            "tags": []
          },
          "execution_count": 54
        }
      ]
    },
    {
      "cell_type": "code",
      "metadata": {
        "id": "YT9KaiUHvMIZ"
      },
      "source": [
        "# shoesdf.groupby(\"country\")[\"shop\"].nunique().plot(kind=\"pie\", label=True)"
      ],
      "execution_count": null,
      "outputs": []
    },
    {
      "cell_type": "code",
      "metadata": {
        "id": "ASJvLdCZO8lV"
      },
      "source": [
        "# shoesdf[\"sales\"]=shoesdf.groupby([\"date\",\"productID\"]).productID.transform(\"count\")"
      ],
      "execution_count": null,
      "outputs": []
    },
    {
      "cell_type": "code",
      "metadata": {
        "colab": {
          "base_uri": "https://localhost:8080/",
          "height": 419
        },
        "id": "d4wYRyVUXMSx",
        "outputId": "99c13e1d-0ff4-4317-f06c-6a6a641e0030"
      },
      "source": [
        ""
      ],
      "execution_count": 33,
      "outputs": [
        {
          "output_type": "execute_result",
          "data": {
            "text/html": [
              "<div>\n",
              "<style scoped>\n",
              "    .dataframe tbody tr th:only-of-type {\n",
              "        vertical-align: middle;\n",
              "    }\n",
              "\n",
              "    .dataframe tbody tr th {\n",
              "        vertical-align: top;\n",
              "    }\n",
              "\n",
              "    .dataframe thead th {\n",
              "        text-align: right;\n",
              "    }\n",
              "</style>\n",
              "<table border=\"1\" class=\"dataframe\">\n",
              "  <thead>\n",
              "    <tr style=\"text-align: right;\">\n",
              "      <th></th>\n",
              "      <th>date</th>\n",
              "      <th>country</th>\n",
              "      <th>productID</th>\n",
              "      <th>shop</th>\n",
              "      <th>gender</th>\n",
              "      <th>sizeUS</th>\n",
              "      <th>originalPrice</th>\n",
              "      <th>year</th>\n",
              "      <th>month</th>\n",
              "      <th>sellingPrice</th>\n",
              "    </tr>\n",
              "  </thead>\n",
              "  <tbody>\n",
              "    <tr>\n",
              "      <th>910</th>\n",
              "      <td>2014-05-02</td>\n",
              "      <td>Canada</td>\n",
              "      <td>2147</td>\n",
              "      <td>CAN1</td>\n",
              "      <td>Female</td>\n",
              "      <td>8.0</td>\n",
              "      <td>159</td>\n",
              "      <td>2014</td>\n",
              "      <td>5</td>\n",
              "      <td>143.1</td>\n",
              "    </tr>\n",
              "    <tr>\n",
              "      <th>925</th>\n",
              "      <td>2014-05-04</td>\n",
              "      <td>Canada</td>\n",
              "      <td>2147</td>\n",
              "      <td>CAN1</td>\n",
              "      <td>Female</td>\n",
              "      <td>8.0</td>\n",
              "      <td>159</td>\n",
              "      <td>2014</td>\n",
              "      <td>5</td>\n",
              "      <td>143.1</td>\n",
              "    </tr>\n",
              "    <tr>\n",
              "      <th>5427</th>\n",
              "      <td>2015-08-08</td>\n",
              "      <td>Canada</td>\n",
              "      <td>2147</td>\n",
              "      <td>CAN1</td>\n",
              "      <td>Female</td>\n",
              "      <td>8.0</td>\n",
              "      <td>159</td>\n",
              "      <td>2015</td>\n",
              "      <td>8</td>\n",
              "      <td>143.1</td>\n",
              "    </tr>\n",
              "    <tr>\n",
              "      <th>5156</th>\n",
              "      <td>2015-07-20</td>\n",
              "      <td>Canada</td>\n",
              "      <td>2148</td>\n",
              "      <td>CAN1</td>\n",
              "      <td>Male</td>\n",
              "      <td>9.5</td>\n",
              "      <td>149</td>\n",
              "      <td>2015</td>\n",
              "      <td>7</td>\n",
              "      <td>149.0</td>\n",
              "    </tr>\n",
              "    <tr>\n",
              "      <th>8876</th>\n",
              "      <td>2016-03-12</td>\n",
              "      <td>Canada</td>\n",
              "      <td>2148</td>\n",
              "      <td>CAN1</td>\n",
              "      <td>Male</td>\n",
              "      <td>11.0</td>\n",
              "      <td>159</td>\n",
              "      <td>2016</td>\n",
              "      <td>3</td>\n",
              "      <td>79.5</td>\n",
              "    </tr>\n",
              "    <tr>\n",
              "      <th>...</th>\n",
              "      <td>...</td>\n",
              "      <td>...</td>\n",
              "      <td>...</td>\n",
              "      <td>...</td>\n",
              "      <td>...</td>\n",
              "      <td>...</td>\n",
              "      <td>...</td>\n",
              "      <td>...</td>\n",
              "      <td>...</td>\n",
              "      <td>...</td>\n",
              "    </tr>\n",
              "    <tr>\n",
              "      <th>11032</th>\n",
              "      <td>2016-06-26</td>\n",
              "      <td>United States</td>\n",
              "      <td>2236</td>\n",
              "      <td>US9</td>\n",
              "      <td>Male</td>\n",
              "      <td>9.5</td>\n",
              "      <td>149</td>\n",
              "      <td>2016</td>\n",
              "      <td>6</td>\n",
              "      <td>74.5</td>\n",
              "    </tr>\n",
              "    <tr>\n",
              "      <th>11086</th>\n",
              "      <td>2016-06-28</td>\n",
              "      <td>United States</td>\n",
              "      <td>2236</td>\n",
              "      <td>US9</td>\n",
              "      <td>Male</td>\n",
              "      <td>9.5</td>\n",
              "      <td>149</td>\n",
              "      <td>2016</td>\n",
              "      <td>6</td>\n",
              "      <td>74.5</td>\n",
              "    </tr>\n",
              "    <tr>\n",
              "      <th>9059</th>\n",
              "      <td>2016-03-22</td>\n",
              "      <td>United States</td>\n",
              "      <td>2240</td>\n",
              "      <td>US9</td>\n",
              "      <td>Female</td>\n",
              "      <td>7.5</td>\n",
              "      <td>129</td>\n",
              "      <td>2016</td>\n",
              "      <td>3</td>\n",
              "      <td>129.0</td>\n",
              "    </tr>\n",
              "    <tr>\n",
              "      <th>9327</th>\n",
              "      <td>2016-04-06</td>\n",
              "      <td>United States</td>\n",
              "      <td>2240</td>\n",
              "      <td>US9</td>\n",
              "      <td>Female</td>\n",
              "      <td>7.5</td>\n",
              "      <td>129</td>\n",
              "      <td>2016</td>\n",
              "      <td>4</td>\n",
              "      <td>129.0</td>\n",
              "    </tr>\n",
              "    <tr>\n",
              "      <th>9488</th>\n",
              "      <td>2016-04-14</td>\n",
              "      <td>United States</td>\n",
              "      <td>2240</td>\n",
              "      <td>US9</td>\n",
              "      <td>Female</td>\n",
              "      <td>7.5</td>\n",
              "      <td>129</td>\n",
              "      <td>2016</td>\n",
              "      <td>4</td>\n",
              "      <td>129.0</td>\n",
              "    </tr>\n",
              "  </tbody>\n",
              "</table>\n",
              "<p>14967 rows × 10 columns</p>\n",
              "</div>"
            ],
            "text/plain": [
              "            date        country productID  ...  year month  sellingPrice\n",
              "910   2014-05-02         Canada      2147  ...  2014     5         143.1\n",
              "925   2014-05-04         Canada      2147  ...  2014     5         143.1\n",
              "5427  2015-08-08         Canada      2147  ...  2015     8         143.1\n",
              "5156  2015-07-20         Canada      2148  ...  2015     7         149.0\n",
              "8876  2016-03-12         Canada      2148  ...  2016     3          79.5\n",
              "...          ...            ...       ...  ...   ...   ...           ...\n",
              "11032 2016-06-26  United States      2236  ...  2016     6          74.5\n",
              "11086 2016-06-28  United States      2236  ...  2016     6          74.5\n",
              "9059  2016-03-22  United States      2240  ...  2016     3         129.0\n",
              "9327  2016-04-06  United States      2240  ...  2016     4         129.0\n",
              "9488  2016-04-14  United States      2240  ...  2016     4         129.0\n",
              "\n",
              "[14967 rows x 10 columns]"
            ]
          },
          "metadata": {
            "tags": []
          },
          "execution_count": 33
        }
      ]
    },
    {
      "cell_type": "markdown",
      "metadata": {
        "id": "9kjNm9HPW6VB"
      },
      "source": [
        "**Total Sales & Revenue**\n",
        "---\n",
        "\n",
        "First, we Extract the interested data from the raw dataset.\n",
        "1.    Sales of each product\n",
        "2.    Sales of each shop in every country \n",
        "\n",
        "\n",
        "\n",
        "\n",
        "\n",
        "\n",
        "\n",
        "\n"
      ]
    },
    {
      "cell_type": "code",
      "metadata": {
        "colab": {
          "base_uri": "https://localhost:8080/",
          "height": 419
        },
        "id": "MDLRkneONEUi",
        "outputId": "4d39b41a-9115-4260-f800-65fa04567d27"
      },
      "source": [
        "df = shoesdf.groupby([\"country\", \"shop\",\"productID\"]).productID.count().reset_index(name=\"sales\")\n",
        "df[\"avgPrice\"]=shoesdf.groupby(\"productID\").sellingPrice.transform(\"mean\").round(2)\n",
        "df[\"revenue\"]= df[\"avgPrice\"] * df[\"sales\"]\n",
        "df\n",
        "# sort_df.groupby(\"productID\").sales.sum()"
      ],
      "execution_count": 31,
      "outputs": [
        {
          "output_type": "execute_result",
          "data": {
            "text/html": [
              "<div>\n",
              "<style scoped>\n",
              "    .dataframe tbody tr th:only-of-type {\n",
              "        vertical-align: middle;\n",
              "    }\n",
              "\n",
              "    .dataframe tbody tr th {\n",
              "        vertical-align: top;\n",
              "    }\n",
              "\n",
              "    .dataframe thead th {\n",
              "        text-align: right;\n",
              "    }\n",
              "</style>\n",
              "<table border=\"1\" class=\"dataframe\">\n",
              "  <thead>\n",
              "    <tr style=\"text-align: right;\">\n",
              "      <th></th>\n",
              "      <th>country</th>\n",
              "      <th>shop</th>\n",
              "      <th>productID</th>\n",
              "      <th>sales</th>\n",
              "      <th>avgPrice</th>\n",
              "      <th>revenue</th>\n",
              "    </tr>\n",
              "  </thead>\n",
              "  <tbody>\n",
              "    <tr>\n",
              "      <th>0</th>\n",
              "      <td>Canada</td>\n",
              "      <td>CAN1</td>\n",
              "      <td>2147</td>\n",
              "      <td>3</td>\n",
              "      <td>142.69</td>\n",
              "      <td>428.07</td>\n",
              "    </tr>\n",
              "    <tr>\n",
              "      <th>1</th>\n",
              "      <td>Canada</td>\n",
              "      <td>CAN1</td>\n",
              "      <td>2148</td>\n",
              "      <td>6</td>\n",
              "      <td>145.15</td>\n",
              "      <td>870.90</td>\n",
              "    </tr>\n",
              "    <tr>\n",
              "      <th>2</th>\n",
              "      <td>Canada</td>\n",
              "      <td>CAN1</td>\n",
              "      <td>2149</td>\n",
              "      <td>6</td>\n",
              "      <td>141.93</td>\n",
              "      <td>851.58</td>\n",
              "    </tr>\n",
              "    <tr>\n",
              "      <th>3</th>\n",
              "      <td>Canada</td>\n",
              "      <td>CAN1</td>\n",
              "      <td>2150</td>\n",
              "      <td>3</td>\n",
              "      <td>138.00</td>\n",
              "      <td>414.00</td>\n",
              "    </tr>\n",
              "    <tr>\n",
              "      <th>4</th>\n",
              "      <td>Canada</td>\n",
              "      <td>CAN1</td>\n",
              "      <td>2152</td>\n",
              "      <td>9</td>\n",
              "      <td>148.16</td>\n",
              "      <td>1333.44</td>\n",
              "    </tr>\n",
              "    <tr>\n",
              "      <th>...</th>\n",
              "      <td>...</td>\n",
              "      <td>...</td>\n",
              "      <td>...</td>\n",
              "      <td>...</td>\n",
              "      <td>...</td>\n",
              "      <td>...</td>\n",
              "    </tr>\n",
              "    <tr>\n",
              "      <th>1977</th>\n",
              "      <td>United States</td>\n",
              "      <td>US9</td>\n",
              "      <td>2232</td>\n",
              "      <td>6</td>\n",
              "      <td>143.56</td>\n",
              "      <td>861.36</td>\n",
              "    </tr>\n",
              "    <tr>\n",
              "      <th>1978</th>\n",
              "      <td>United States</td>\n",
              "      <td>US9</td>\n",
              "      <td>2234</td>\n",
              "      <td>3</td>\n",
              "      <td>146.11</td>\n",
              "      <td>438.33</td>\n",
              "    </tr>\n",
              "    <tr>\n",
              "      <th>1979</th>\n",
              "      <td>United States</td>\n",
              "      <td>US9</td>\n",
              "      <td>2235</td>\n",
              "      <td>3</td>\n",
              "      <td>145.13</td>\n",
              "      <td>435.39</td>\n",
              "    </tr>\n",
              "    <tr>\n",
              "      <th>1980</th>\n",
              "      <td>United States</td>\n",
              "      <td>US9</td>\n",
              "      <td>2236</td>\n",
              "      <td>3</td>\n",
              "      <td>149.28</td>\n",
              "      <td>447.84</td>\n",
              "    </tr>\n",
              "    <tr>\n",
              "      <th>1981</th>\n",
              "      <td>United States</td>\n",
              "      <td>US9</td>\n",
              "      <td>2240</td>\n",
              "      <td>3</td>\n",
              "      <td>146.11</td>\n",
              "      <td>438.33</td>\n",
              "    </tr>\n",
              "  </tbody>\n",
              "</table>\n",
              "<p>1982 rows × 6 columns</p>\n",
              "</div>"
            ],
            "text/plain": [
              "            country  shop productID  sales  avgPrice  revenue\n",
              "0            Canada  CAN1      2147      3    142.69   428.07\n",
              "1            Canada  CAN1      2148      6    145.15   870.90\n",
              "2            Canada  CAN1      2149      6    141.93   851.58\n",
              "3            Canada  CAN1      2150      3    138.00   414.00\n",
              "4            Canada  CAN1      2152      9    148.16  1333.44\n",
              "...             ...   ...       ...    ...       ...      ...\n",
              "1977  United States   US9      2232      6    143.56   861.36\n",
              "1978  United States   US9      2234      3    146.11   438.33\n",
              "1979  United States   US9      2235      3    145.13   435.39\n",
              "1980  United States   US9      2236      3    149.28   447.84\n",
              "1981  United States   US9      2240      3    146.11   438.33\n",
              "\n",
              "[1982 rows x 6 columns]"
            ]
          },
          "metadata": {
            "tags": []
          },
          "execution_count": 31
        }
      ]
    },
    {
      "cell_type": "markdown",
      "metadata": {
        "id": "3AA2BEMeb3Cd"
      },
      "source": [
        ""
      ]
    },
    {
      "cell_type": "code",
      "metadata": {
        "colab": {
          "base_uri": "https://localhost:8080/",
          "height": 490
        },
        "id": "dze9-ny9woWb",
        "outputId": "b09a414f-a31e-4d55-9a99-46260b551301"
      },
      "source": [
        "def country_shop(data):\n",
        "    # df = data.copy(deep=True)\n",
        "    df = pd.pivot_table(data, index= \"country\" , values=\"sales\", columns=\"shop\", aggfunc = np.sum)\n",
        "    df.plot(kind = \"barh\",stacked =True, figsize=(15,5), title=\"Sales by Country\", colormap = \"twilight_shifted\", edgecolor=\"black\").legend(loc=\"best\",bbox_to_anchor=(1.15,1))\n",
        "    return\n",
        "country_shop(country_shop_df)"
      ],
      "execution_count": 277,
      "outputs": [
        {
          "output_type": "display_data",
          "data": {
            "image/png": "[encoded data removed]",
            "text/plain": [
              "<Figure size 1080x360 with 1 Axes>"
            ]
          },
          "metadata": {
            "tags": [],
            "needs_background": "light"
          }
        }
      ]
    },
    {
      "cell_type": "code",
      "metadata": {
        "colab": {
          "base_uri": "https://localhost:8080/",
          "height": 419
        },
        "id": "7SsybCX8UGCS",
        "outputId": "b6e5ec6b-ad87-4999-ecc8-cf50b67b5af4"
      },
      "source": [
        ""
      ],
      "execution_count": 145,
      "outputs": [
        {
          "output_type": "execute_result",
          "data": {
            "text/html": [
              "<div>\n",
              "<style scoped>\n",
              "    .dataframe tbody tr th:only-of-type {\n",
              "        vertical-align: middle;\n",
              "    }\n",
              "\n",
              "    .dataframe tbody tr th {\n",
              "        vertical-align: top;\n",
              "    }\n",
              "\n",
              "    .dataframe thead th {\n",
              "        text-align: right;\n",
              "    }\n",
              "</style>\n",
              "<table border=\"1\" class=\"dataframe\">\n",
              "  <thead>\n",
              "    <tr style=\"text-align: right;\">\n",
              "      <th></th>\n",
              "      <th>country</th>\n",
              "      <th>shop</th>\n",
              "      <th>productID</th>\n",
              "      <th>sales</th>\n",
              "      <th>avgPrice</th>\n",
              "      <th>revenue</th>\n",
              "    </tr>\n",
              "  </thead>\n",
              "  <tbody>\n",
              "    <tr>\n",
              "      <th>0</th>\n",
              "      <td>Canada</td>\n",
              "      <td>CAN1</td>\n",
              "      <td>2147</td>\n",
              "      <td>3</td>\n",
              "      <td>142.69</td>\n",
              "      <td>428.07</td>\n",
              "    </tr>\n",
              "    <tr>\n",
              "      <th>1</th>\n",
              "      <td>Canada</td>\n",
              "      <td>CAN1</td>\n",
              "      <td>2148</td>\n",
              "      <td>6</td>\n",
              "      <td>145.15</td>\n",
              "      <td>870.90</td>\n",
              "    </tr>\n",
              "    <tr>\n",
              "      <th>2</th>\n",
              "      <td>Canada</td>\n",
              "      <td>CAN1</td>\n",
              "      <td>2149</td>\n",
              "      <td>6</td>\n",
              "      <td>141.93</td>\n",
              "      <td>851.58</td>\n",
              "    </tr>\n",
              "    <tr>\n",
              "      <th>3</th>\n",
              "      <td>Canada</td>\n",
              "      <td>CAN1</td>\n",
              "      <td>2150</td>\n",
              "      <td>3</td>\n",
              "      <td>138.00</td>\n",
              "      <td>414.00</td>\n",
              "    </tr>\n",
              "    <tr>\n",
              "      <th>4</th>\n",
              "      <td>Canada</td>\n",
              "      <td>CAN1</td>\n",
              "      <td>2152</td>\n",
              "      <td>9</td>\n",
              "      <td>148.16</td>\n",
              "      <td>1333.44</td>\n",
              "    </tr>\n",
              "    <tr>\n",
              "      <th>...</th>\n",
              "      <td>...</td>\n",
              "      <td>...</td>\n",
              "      <td>...</td>\n",
              "      <td>...</td>\n",
              "      <td>...</td>\n",
              "      <td>...</td>\n",
              "    </tr>\n",
              "    <tr>\n",
              "      <th>1977</th>\n",
              "      <td>United States</td>\n",
              "      <td>US9</td>\n",
              "      <td>2232</td>\n",
              "      <td>6</td>\n",
              "      <td>143.56</td>\n",
              "      <td>861.36</td>\n",
              "    </tr>\n",
              "    <tr>\n",
              "      <th>1978</th>\n",
              "      <td>United States</td>\n",
              "      <td>US9</td>\n",
              "      <td>2234</td>\n",
              "      <td>3</td>\n",
              "      <td>146.11</td>\n",
              "      <td>438.33</td>\n",
              "    </tr>\n",
              "    <tr>\n",
              "      <th>1979</th>\n",
              "      <td>United States</td>\n",
              "      <td>US9</td>\n",
              "      <td>2235</td>\n",
              "      <td>3</td>\n",
              "      <td>145.13</td>\n",
              "      <td>435.39</td>\n",
              "    </tr>\n",
              "    <tr>\n",
              "      <th>1980</th>\n",
              "      <td>United States</td>\n",
              "      <td>US9</td>\n",
              "      <td>2236</td>\n",
              "      <td>3</td>\n",
              "      <td>149.28</td>\n",
              "      <td>447.84</td>\n",
              "    </tr>\n",
              "    <tr>\n",
              "      <th>1981</th>\n",
              "      <td>United States</td>\n",
              "      <td>US9</td>\n",
              "      <td>2240</td>\n",
              "      <td>3</td>\n",
              "      <td>146.11</td>\n",
              "      <td>438.33</td>\n",
              "    </tr>\n",
              "  </tbody>\n",
              "</table>\n",
              "<p>1982 rows × 6 columns</p>\n",
              "</div>"
            ],
            "text/plain": [
              "            country  shop productID  sales  avgPrice  revenue\n",
              "0            Canada  CAN1      2147      3    142.69   428.07\n",
              "1            Canada  CAN1      2148      6    145.15   870.90\n",
              "2            Canada  CAN1      2149      6    141.93   851.58\n",
              "3            Canada  CAN1      2150      3    138.00   414.00\n",
              "4            Canada  CAN1      2152      9    148.16  1333.44\n",
              "...             ...   ...       ...    ...       ...      ...\n",
              "1977  United States   US9      2232      6    143.56   861.36\n",
              "1978  United States   US9      2234      3    146.11   438.33\n",
              "1979  United States   US9      2235      3    145.13   435.39\n",
              "1980  United States   US9      2236      3    149.28   447.84\n",
              "1981  United States   US9      2240      3    146.11   438.33\n",
              "\n",
              "[1982 rows x 6 columns]"
            ]
          },
          "metadata": {
            "tags": []
          },
          "execution_count": 145
        }
      ]
    },
    {
      "cell_type": "code",
      "metadata": {
        "colab": {
          "base_uri": "https://localhost:8080/",
          "height": 490
        },
        "id": "kXjT9bq9k4FQ",
        "outputId": "7d06023d-6372-4b04-a909-a90ef61100c8"
      },
      "source": [
        "def country_shop(data):\n",
        "    # df = data.copy(deep=True)\n",
        "    df1 = pd.pivot_table(data, index= \"country\" , values=\"sales\", columns=\"shop\", aggfunc = np.sum)\n",
        "    df1.plot(kind = \"barh\",stacked =True, figsize=(15,5), title=\"Sales by Country\", colormap = \"twilight_shifted\", edgecolor=\"black\").legend(loc=\"best\",bbox_to_anchor=(1.15,1))\n",
        "    # sns.lineplot(df,hue =\"shop\", x=\"revenue\",figsize=(20,10),subplots=True)\n",
        "    # return(df)\n",
        "country_shop(x)\n",
        "# country_shop_df = shoesdf.groupby([\"country\", \"shop\"]).productID.count().reset_index(name=\"sales\")"
      ],
      "execution_count": 167,
      "outputs": [
        {
          "output_type": "display_data",
          "data": {
            "image/png": "[encoded data removed]",
            "text/plain": [
              "<Figure size 1080x360 with 1 Axes>"
            ]
          },
          "metadata": {
            "tags": [],
            "needs_background": "light"
          }
        }
      ]
    },
    {
      "cell_type": "code",
      "metadata": {
        "colab": {
          "base_uri": "https://localhost:8080/",
          "height": 419
        },
        "id": "_Nsck2I51lQ5",
        "outputId": "6790b00b-6d84-498e-cbb5-79df776f52b5"
      },
      "source": [
        "product_past_sales = shoesdf.groupby(\"productID\")[\"productID\"].count().reset_index(name=\"sales\")\n",
        "product_past_sales[\"avgPrice\"] = shoesdf.groupby(\"productID\").sellingPrice.transform(\"mean\").round(2)\n",
        "product_past_sales[\"revenue\"] = product_past_sales[\"sales\"] * product_past_sales[\"avgPrice\"]\n",
        "product_past_sales"
      ],
      "execution_count": 59,
      "outputs": [
        {
          "output_type": "execute_result",
          "data": {
            "text/html": [
              "<div>\n",
              "<style scoped>\n",
              "    .dataframe tbody tr th:only-of-type {\n",
              "        vertical-align: middle;\n",
              "    }\n",
              "\n",
              "    .dataframe tbody tr th {\n",
              "        vertical-align: top;\n",
              "    }\n",
              "\n",
              "    .dataframe thead th {\n",
              "        text-align: right;\n",
              "    }\n",
              "</style>\n",
              "<table border=\"1\" class=\"dataframe\">\n",
              "  <thead>\n",
              "    <tr style=\"text-align: right;\">\n",
              "      <th></th>\n",
              "      <th>productID</th>\n",
              "      <th>sales</th>\n",
              "      <th>avgPrice</th>\n",
              "      <th>revenue</th>\n",
              "    </tr>\n",
              "  </thead>\n",
              "  <tbody>\n",
              "    <tr>\n",
              "      <th>0</th>\n",
              "      <td>2147</td>\n",
              "      <td>165</td>\n",
              "      <td>142.69</td>\n",
              "      <td>23543.85</td>\n",
              "    </tr>\n",
              "    <tr>\n",
              "      <th>1</th>\n",
              "      <td>2148</td>\n",
              "      <td>147</td>\n",
              "      <td>145.15</td>\n",
              "      <td>21337.05</td>\n",
              "    </tr>\n",
              "    <tr>\n",
              "      <th>2</th>\n",
              "      <td>2149</td>\n",
              "      <td>162</td>\n",
              "      <td>141.93</td>\n",
              "      <td>22992.66</td>\n",
              "    </tr>\n",
              "    <tr>\n",
              "      <th>3</th>\n",
              "      <td>2150</td>\n",
              "      <td>150</td>\n",
              "      <td>138.00</td>\n",
              "      <td>20700.00</td>\n",
              "    </tr>\n",
              "    <tr>\n",
              "      <th>4</th>\n",
              "      <td>2151</td>\n",
              "      <td>156</td>\n",
              "      <td>148.16</td>\n",
              "      <td>23112.96</td>\n",
              "    </tr>\n",
              "    <tr>\n",
              "      <th>...</th>\n",
              "      <td>...</td>\n",
              "      <td>...</td>\n",
              "      <td>...</td>\n",
              "      <td>...</td>\n",
              "    </tr>\n",
              "    <tr>\n",
              "      <th>91</th>\n",
              "      <td>2238</td>\n",
              "      <td>171</td>\n",
              "      <td>143.37</td>\n",
              "      <td>24516.27</td>\n",
              "    </tr>\n",
              "    <tr>\n",
              "      <th>92</th>\n",
              "      <td>2239</td>\n",
              "      <td>189</td>\n",
              "      <td>142.55</td>\n",
              "      <td>26941.95</td>\n",
              "    </tr>\n",
              "    <tr>\n",
              "      <th>93</th>\n",
              "      <td>2240</td>\n",
              "      <td>141</td>\n",
              "      <td>137.01</td>\n",
              "      <td>19318.41</td>\n",
              "    </tr>\n",
              "    <tr>\n",
              "      <th>94</th>\n",
              "      <td>2241</td>\n",
              "      <td>171</td>\n",
              "      <td>144.51</td>\n",
              "      <td>24711.21</td>\n",
              "    </tr>\n",
              "    <tr>\n",
              "      <th>95</th>\n",
              "      <td>2242</td>\n",
              "      <td>144</td>\n",
              "      <td>150.59</td>\n",
              "      <td>21684.96</td>\n",
              "    </tr>\n",
              "  </tbody>\n",
              "</table>\n",
              "<p>96 rows × 4 columns</p>\n",
              "</div>"
            ],
            "text/plain": [
              "   productID  sales  avgPrice   revenue\n",
              "0       2147    165    142.69  23543.85\n",
              "1       2148    147    145.15  21337.05\n",
              "2       2149    162    141.93  22992.66\n",
              "3       2150    150    138.00  20700.00\n",
              "4       2151    156    148.16  23112.96\n",
              "..       ...    ...       ...       ...\n",
              "91      2238    171    143.37  24516.27\n",
              "92      2239    189    142.55  26941.95\n",
              "93      2240    141    137.01  19318.41\n",
              "94      2241    171    144.51  24711.21\n",
              "95      2242    144    150.59  21684.96\n",
              "\n",
              "[96 rows x 4 columns]"
            ]
          },
          "metadata": {
            "tags": []
          },
          "execution_count": 59
        }
      ]
    },
    {
      "cell_type": "code",
      "metadata": {
        "colab": {
          "base_uri": "https://localhost:8080/",
          "height": 604
        },
        "id": "_lajamH4Jwf2",
        "outputId": "7382c0ba-687a-48d8-b2ae-75b06324dd7c"
      },
      "source": [
        "product_past_sales.plot(x = 'productID', y = 'sales',kind=\"bar\", figsize=(25,10),color='maroon', rot = 60, title=\"Sales by Shoes\")"
      ],
      "execution_count": 60,
      "outputs": [
        {
          "output_type": "execute_result",
          "data": {
            "text/plain": [
              "<matplotlib.axes._subplots.AxesSubplot at 0x7f400308cd10>"
            ]
          },
          "metadata": {
            "tags": []
          },
          "execution_count": 60
        },
        {
          "output_type": "display_data",
          "data": {
            "image/png": "[encoded data removed]",
            "text/plain": [
              "<Figure size 1800x720 with 1 Axes>"
            ]
          },
          "metadata": {
            "tags": [],
            "needs_background": "light"
          }
        }
      ]
    },
    {
      "cell_type": "code",
      "metadata": {
        "id": "y_SjTx3s2r4v"
      },
      "source": [
        "# shoesdf.groupby([\"gender\",\"sizeUS\"]).productID.count().unstack().plot()"
      ],
      "execution_count": null,
      "outputs": []
    },
    {
      "cell_type": "code",
      "metadata": {
        "id": "RVW35s04CRcy"
      },
      "source": [
        "# product_past_sales.plot(kind=\"scatter\",x=\"sales\",y=\"revenue\")"
      ],
      "execution_count": null,
      "outputs": []
    },
    {
      "cell_type": "code",
      "metadata": {
        "id": "AENx_owZDUZ-"
      },
      "source": [
        "# shoesdf.groupby([\"shop\",\"productID\"]).count()\n",
        "# shoesdf.sales.sum()\n",
        "# shoesdf.shape\n",
        "# shoesdf.plot(x='shop',y='sales',kind=\"scatter\")"
      ],
      "execution_count": null,
      "outputs": []
    },
    {
      "cell_type": "code",
      "metadata": {
        "id": "-gNmWeXuHxzm"
      },
      "source": [
        "shop_sales"
      ],
      "execution_count": null,
      "outputs": []
    },
    {
      "cell_type": "code",
      "metadata": {
        "colab": {
          "base_uri": "https://localhost:8080/",
          "height": 369
        },
        "id": "B7t9h8Q6LI1z",
        "outputId": "c166e03d-8298-406b-860b-0f5c6c686b45"
      },
      "source": [
        "# shoesdf.groupby([\"year\", \"month\"])[\"productID\"].count().unstack().plot(kind=\"bar\", figsize=(20,10),colormap=\"tab20\")\n",
        "y = shoesdf.groupby([\"year\", \"month\"])[\"productID\"].count().reset_index(name = \"sales\").sort_values(by=[\"year\",\"month\"])\n",
        "y[\"month\"]= pd.to_datetime(y[\"month\"], format=\"%m\").dt.strftime('%b')\n",
        "fig, ax = plt.subplots(figsize=(15,5))\n",
        "for year, group in y.groupby('year'):\n",
        "    ax.plot(group['month'], group['sales'], label=year)\n",
        "\n",
        "ax.legend()\n",
        "plt.tight_layout()\n",
        "plt.show()"
      ],
      "execution_count": 271,
      "outputs": [
        {
          "output_type": "display_data",
          "data": {
            "image/png": "[encoded data removed]",
            "text/plain": [
              "<Figure size 1080x360 with 1 Axes>"
            ]
          },
          "metadata": {
            "tags": [],
            "needs_background": "light"
          }
        }
      ]
    },
    {
      "cell_type": "code",
      "metadata": {
        "colab": {
          "base_uri": "https://localhost:8080/"
        },
        "id": "u4Yg6GOAKSCc",
        "outputId": "60ffdce6-1b44-4682-9d56-2411b06116ee"
      },
      "source": [
        "y.dtypes"
      ],
      "execution_count": 250,
      "outputs": [
        {
          "output_type": "execute_result",
          "data": {
            "text/plain": [
              "year     int64\n",
              "month    int64\n",
              "sales    int64\n",
              "dtype: object"
            ]
          },
          "metadata": {
            "tags": []
          },
          "execution_count": 250
        }
      ]
    },
    {
      "cell_type": "code",
      "metadata": {
        "id": "9InDJaVkt3mH"
      },
      "source": [
        "y[\"month\"] = pd.to_datetime(y[\"month\"], format=\"%m\").dt.strftime('%b')"
      ],
      "execution_count": 195,
      "outputs": []
    },
    {
      "cell_type": "code",
      "metadata": {
        "colab": {
          "base_uri": "https://localhost:8080/"
        },
        "id": "EFD2MaWHy7uC",
        "outputId": "69c658bd-49f3-487e-c1a0-8d1af1b0b646"
      },
      "source": [
        "pd.to_datetime(shoesdf[\"month\"], format=\"%m\").dt.strftime('%b').unique()"
      ],
      "execution_count": 224,
      "outputs": [
        {
          "output_type": "execute_result",
          "data": {
            "text/plain": [
              "array(['Jan', 'Feb', 'Mar', 'Apr', 'May', 'Jun', 'Jul', 'Aug', 'Sep',\n",
              "       'Oct', 'Nov', 'Dec'], dtype=object)"
            ]
          },
          "metadata": {
            "tags": []
          },
          "execution_count": 224
        }
      ]
    },
    {
      "cell_type": "code",
      "metadata": {
        "colab": {
          "base_uri": "https://localhost:8080/"
        },
        "id": "kjZoc8D3zGHN",
        "outputId": "5d8eda27-6000-4511-c928-04ea7e02f4d6"
      },
      "source": [
        "pd.to_datetime(shoesdf[\"month\"], format=\"%m\").dt.strftime('%b').unique()"
      ],
      "execution_count": 219,
      "outputs": [
        {
          "output_type": "execute_result",
          "data": {
            "text/plain": [
              "array(['Jan', 'Feb', 'Mar', 'Apr', 'May', 'Jun', 'Jul', 'Aug', 'Sep',\n",
              "       'Oct', 'Nov', 'Dec'], dtype=object)"
            ]
          },
          "metadata": {
            "tags": []
          },
          "execution_count": 219
        }
      ]
    },
    {
      "cell_type": "code",
      "metadata": {
        "id": "op4toL_szK9B"
      },
      "source": [
        ""
      ],
      "execution_count": null,
      "outputs": []
    }
  ]
}